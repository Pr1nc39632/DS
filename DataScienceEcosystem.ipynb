{
 "cells": [
  {
   "cell_type": "markdown",
   "id": "6de6c091-7828-4746-a3e0-af2148b9176f",
   "metadata": {
    "tags": []
   },
   "source": [
    "# Data Science Tools and Ecosystem"
   ]
  },
  {
   "cell_type": "markdown",
   "id": "9c680d4f-94a6-4a4c-b932-8dfb5664f81a",
   "metadata": {},
   "source": [
    "In this notebook, Data Science Tools and Ecosystem are summarized."
   ]
  },
  {
   "cell_type": "markdown",
   "id": "ae087535-87b0-4099-b12d-19cf03a4811c",
   "metadata": {},
   "source": [
    "***Objectives:***\n",
    "- This covers Data Science Ecosystem\n",
    "- This covers few of the languages used for Data Science\n",
    "- This covers the tools used in Data Science"
   ]
  },
  {
   "cell_type": "markdown",
   "id": "16124deb-22a3-4af8-bc3b-552176f4980e",
   "metadata": {},
   "source": [
    "Some of the popular languages that Data Scientists use are:\n",
    "1. Python\n",
    "2. R\n",
    "3. Julia"
   ]
  },
  {
   "cell_type": "markdown",
   "id": "d197c669-29c8-43a9-b1f5-f9879c0ea3a6",
   "metadata": {},
   "source": [
    "Some of the commonly used libraries used by Data Scientists include:\n",
    "1. Pandas\n",
    "2. Numpy\n",
    "3. Tensorflow"
   ]
  },
  {
   "cell_type": "markdown",
   "id": "85933722-c4ae-4601-8e0c-3dbe1b76bd9b",
   "metadata": {},
   "source": [
    "| Data Science Tools |\n",
    "| ------------------ |\n",
    "| Jupyter Notebook |\n",
    "| Matlab |\n",
    "| RStudio |"
   ]
  },
  {
   "cell_type": "markdown",
   "id": "2401acfd-5a47-49f0-988d-285e7f960225",
   "metadata": {},
   "source": [
    "### Below are a few examples of evaluating arithmetic expressions in Python"
   ]
  },
  {
   "cell_type": "code",
   "execution_count": 5,
   "id": "835aa055-d23d-43ab-8b9e-697f4ddefbe6",
   "metadata": {
    "tags": []
   },
   "outputs": [
    {
     "data": {
      "text/plain": [
       "17"
      ]
     },
     "execution_count": 5,
     "metadata": {},
     "output_type": "execute_result"
    }
   ],
   "source": [
    "# this is a simple arithmetic expression to multiply then add integers.\n",
    "(3*4)+5"
   ]
  },
  {
   "cell_type": "code",
   "execution_count": 4,
   "id": "c5801a19-5153-49dd-b550-1e20a4db6f2b",
   "metadata": {
    "tags": []
   },
   "outputs": [
    {
     "data": {
      "text/plain": [
       "3.3333333333333335"
      ]
     },
     "execution_count": 4,
     "metadata": {},
     "output_type": "execute_result"
    }
   ],
   "source": [
    "# This will convert 200 minutes to hours by dividing by 60\n",
    "200/60"
   ]
  },
  {
   "cell_type": "markdown",
   "id": "3387724a-4395-495a-ba2b-4b8053d9aae3",
   "metadata": {},
   "source": [
    "## Author\n",
    "Saurabh Vishwanath"
   ]
  },
  {
   "cell_type": "code",
   "execution_count": null,
   "id": "b8d49ff7-039a-45b3-b188-67a5a98655af",
   "metadata": {},
   "outputs": [],
   "source": []
  }
 ],
 "metadata": {
  "kernelspec": {
   "display_name": "Python",
   "language": "python",
   "name": "conda-env-python-py"
  },
  "language_info": {
   "codemirror_mode": {
    "name": "ipython",
    "version": 3
   },
   "file_extension": ".py",
   "mimetype": "text/x-python",
   "name": "python",
   "nbconvert_exporter": "python",
   "pygments_lexer": "ipython3",
   "version": "3.7.12"
  }
 },
 "nbformat": 4,
 "nbformat_minor": 5
}
